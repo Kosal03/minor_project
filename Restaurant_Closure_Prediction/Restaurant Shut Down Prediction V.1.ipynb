{
 "cells": [
  {
   "cell_type": "code",
   "execution_count": 1,
   "metadata": {},
   "outputs": [],
   "source": [
    "import pandas as pd\n",
    "import numpy as np\n",
    "\n",
    "from sklearn.model_selection import train_test_split\n",
    "from sklearn.linear_model import LogisticRegression\n",
    "from sklearn import metrics\n",
    "from sklearn.metrics import confusion_matrix,recall_score,accuracy_score,precision_score,f1_score\n",
    "from imblearn.over_sampling import SMOTE\n",
    "\n",
    "from sklearn.feature_extraction.text import CountVectorizer, TfidfVectorizer\n",
    "from sklearn.preprocessing import StandardScaler\n",
    "from sklearn.naive_bayes import MultinomialNB, BernoulliNB, GaussianNB\n",
    "from sklearn.decomposition import PCA\n",
    "\n",
    "import seaborn as sns\n",
    "import matplotlib.pyplot as plt\n",
    "%matplotlib inline"
   ]
  },
  {
   "cell_type": "code",
   "execution_count": 2,
   "metadata": {},
   "outputs": [],
   "source": [
    "df=pd.read_csv('./restaurant_star_prediction_to_use.csv')"
   ]
  },
  {
   "cell_type": "code",
   "execution_count": 3,
   "metadata": {},
   "outputs": [],
   "source": [
    "df_2018_o_c=df[df.review_year_max>=2016]"
   ]
  },
  {
   "cell_type": "code",
   "execution_count": 4,
   "metadata": {},
   "outputs": [],
   "source": [
    "restaurant_4_closure=['business_id','name']\n",
    "location_4_closure=['state','city','longitude','latitude','neighborhood']\n",
    "restaurant_attribute_num_4_closure=[x for x in df_2018_o_c.columns[15:32] if x not in ['BikeParking','GoodForKids','RestaurantsDelivery','RestaurantsGoodForGroups']]\n",
    "restaurant_life_4_closure=['review_year_min','review_year_max','review_year_diff']\n",
    "restaurant_attribute_cat_4_closure=['attribute']\n",
    "restaurant_category_cat_4_closure=['categories_clean_short']\n",
    "restaurant_target_4_closure=['is_open']"
   ]
  },
  {
   "cell_type": "code",
   "execution_count": 5,
   "metadata": {},
   "outputs": [],
   "source": [
    "df_city_rest_density=df_2018_o_c.groupby('city')[['Unnamed: 0']].count()\n",
    "df_city_rest_density.reset_index(inplace=True)\n",
    "df_city_rest_density.columns=['city','restaurant_count']\n",
    "df_2018_o_c=df_2018_o_c.merge(df_city_rest_density,left_on='city',right_on='city')"
   ]
  },
  {
   "cell_type": "code",
   "execution_count": 6,
   "metadata": {},
   "outputs": [],
   "source": [
    "location_4_closure_to_use=['state','neighborhood','restaurant_count']"
   ]
  },
  {
   "cell_type": "code",
   "execution_count": 7,
   "metadata": {},
   "outputs": [],
   "source": [
    "X_base_location_only_4_closure=pd.get_dummies(df_2018_o_c[location_4_closure],drop_first=True)"
   ]
  },
  {
   "cell_type": "code",
   "execution_count": 8,
   "metadata": {},
   "outputs": [],
   "source": [
    "df_2018_o_c[restaurant_attribute_num_4_closure]=df_2018_o_c[restaurant_attribute_num_4_closure].fillna(-1)"
   ]
  },
  {
   "cell_type": "code",
   "execution_count": 9,
   "metadata": {},
   "outputs": [],
   "source": [
    "df_2018_o_c_dropna=df_2018_o_c[df_2018_o_c.Tuesday_num_of_chkins!=-1].copy()"
   ]
  },
  {
   "cell_type": "code",
   "execution_count": 10,
   "metadata": {},
   "outputs": [],
   "source": [
    "df_2018_o_c_dropna.reset_index(drop=True,inplace=True)"
   ]
  },
  {
   "cell_type": "code",
   "execution_count": 15,
   "metadata": {
    "scrolled": true
   },
   "outputs": [
    {
     "data": {
      "text/plain": [
       "Caters                     False\n",
       "HasTV                      False\n",
       "OutdoorSeating             False\n",
       "RestaurantsPriceRange2     False\n",
       "RestaurantsReservations    False\n",
       "RestaurantsTableService    False\n",
       "Friday_num_of_chkins       False\n",
       "Monday_num_of_chkins       False\n",
       "Saturday_num_of_chkins     False\n",
       "Sunday_num_of_chkins       False\n",
       "Thursday_num_of_chkins     False\n",
       "Tuesday_num_of_chkins      False\n",
       "Wednesday_num_of_chkins    False\n",
       "dtype: bool"
      ]
     },
     "execution_count": 15,
     "metadata": {},
     "output_type": "execute_result"
    }
   ],
   "source": [
    "df_2018_o_c_dropna[restaurant_attribute_num_4_closure].isnull().any()"
   ]
  },
  {
   "cell_type": "code",
   "execution_count": 16,
   "metadata": {},
   "outputs": [],
   "source": [
    "#location\n",
    "X_location_4_closure=pd.get_dummies(df_2018_o_c_dropna[location_4_closure_to_use],drop_first=True)\n",
    "#attribute_num\n",
    "X_attr_num_4_closure=df_2018_o_c_dropna[restaurant_attribute_num_4_closure]\n",
    "X_2_4_closure=pd.concat([X_location_4_closure,X_attr_num_4_closure],axis=1)\n",
    "y_2_4_closure=df_2018_o_c_dropna[restaurant_target_4_closure]"
   ]
  },
  {
   "cell_type": "code",
   "execution_count": 19,
   "metadata": {},
   "outputs": [],
   "source": [
    "X_3_4_closure=pd.concat([X_2_4_closure,df_2018_o_c_dropna['review_year_diff']],axis=1)"
   ]
  },
  {
   "cell_type": "code",
   "execution_count": 20,
   "metadata": {},
   "outputs": [],
   "source": [
    "for col in [x for x in X_3_4_closure.columns if 'chkins' in x]:\n",
    "    X_3_4_closure[col]=X_3_4_closure[col]/X_3_4_closure['review_year_diff'].map(lambda x:1 if x==0 else x)"
   ]
  },
  {
   "cell_type": "code",
   "execution_count": 22,
   "metadata": {
    "scrolled": true
   },
   "outputs": [],
   "source": [
    "cv_4_4_closure=CountVectorizer(stop_words='english',ngram_range=(1,1))\n",
    "vect_4_4_closure=cv_4_4_closure.fit_transform(df_2018_o_c_dropna[restaurant_attribute_cat_4_closure]['attribute'])\n",
    "df_attr_4_4_closure=pd.DataFrame(vect_4_4_closure.toarray(),columns=cv_4_4_closure.get_feature_names())"
   ]
  },
  {
   "cell_type": "code",
   "execution_count": 23,
   "metadata": {},
   "outputs": [],
   "source": [
    "X_4_4_closure=pd.concat([X_3_4_closure,df_attr_4_4_closure],axis=1)"
   ]
  },
  {
   "cell_type": "code",
   "execution_count": 32,
   "metadata": {},
   "outputs": [],
   "source": [
    "cv_5_4_closure_tfidf=TfidfVectorizer(stop_words='english',ngram_range=(1,1))\n",
    "vect_5_4_closure_tfidf=cv_5_4_closure_tfidf.fit_transform(df_2018_o_c_dropna[restaurant_attribute_cat_4_closure]['attribute'])\n",
    "df_attr_5_4_closure_tfidf=pd.DataFrame(vect_5_4_closure_tfidf.toarray(),columns=cv_5_4_closure_tfidf.get_feature_names())"
   ]
  },
  {
   "cell_type": "code",
   "execution_count": 33,
   "metadata": {},
   "outputs": [],
   "source": [
    "X_5_4_closure_tfidf=pd.concat([X_4_4_closure,df_attr_5_4_closure_tfidf],axis=1)"
   ]
  },
  {
   "cell_type": "code",
   "execution_count": 34,
   "metadata": {},
   "outputs": [],
   "source": [
    "def standardize_text(df, text_field):\n",
    "    df[text_field] = df[text_field].str.replace(r\"http\\S+\", \"\")\n",
    "    df[text_field] = df[text_field].str.replace(r\"http\", \"\")\n",
    "    df[text_field] = df[text_field].str.replace(r\"@\\S+\", \"\")\n",
    "    df[text_field] = df[text_field].str.replace(r\"[^A-Za-z0-9(),!?@\\'\\`\\\"\\_\\n]\", \" \")\n",
    "    df[text_field] = df[text_field].str.replace(r\"@\", \"at\")\n",
    "    df[text_field] = df[text_field].str.lower()\n",
    "    return df"
   ]
  },
  {
   "cell_type": "code",
   "execution_count": 31,
   "metadata": {},
   "outputs": [],
   "source": [
    "df_closure_review=standardize_text(df_2018_o_c_dropna,'review_text')"
   ]
  },
  {
   "cell_type": "code",
   "execution_count": 35,
   "metadata": {},
   "outputs": [],
   "source": [
    "cv_6_4_closure_review=TfidfVectorizer(stop_words='english',ngram_range=(1,1),max_features=500)\n",
    "vect_6_4_closure_review=cv_6_4_closure_review.fit_transform(df_closure_review['review_text'])\n",
    "df_6_4_closure_review=pd.DataFrame(vect_6_4_closure_review.toarray(),columns=cv_6_4_closure_review.get_feature_names())\n",
    "X_6_cv_4_closure=pd.concat([X_5_4_closure_tfidf,df_6_4_closure_review],axis=1)"
   ]
  },
  {
   "cell_type": "code",
   "execution_count": 38,
   "metadata": {},
   "outputs": [],
   "source": [
    "y_6_cv_4_closure=df_2018_o_c_dropna[restaurant_target_4_closure]"
   ]
  },
  {
   "cell_type": "code",
   "execution_count": 40,
   "metadata": {},
   "outputs": [],
   "source": [
    "sm = SMOTE(random_state=2)"
   ]
  },
  {
   "cell_type": "code",
   "execution_count": 41,
   "metadata": {
    "scrolled": true
   },
   "outputs": [
    {
     "name": "stderr",
     "output_type": "stream",
     "text": [
      "C:\\Users\\User\\Anaconda3\\lib\\site-packages\\sklearn\\utils\\validation.py:752: DataConversionWarning: A column-vector y was passed when a 1d array was expected. Please change the shape of y to (n_samples, ), for example using ravel().\n",
      "  y = column_or_1d(y, warn=True)\n"
     ]
    }
   ],
   "source": [
    "X_6_cv_4_closure_train,X_6_cv_4_closure_test,y_6_cv_4_closure_train,y_6_cv_4_closure_test=train_test_split(X_6_cv_4_closure,y_6_cv_4_closure,test_size=0.2,random_state=5)\n",
    "X_train_res, y_train_res = sm.fit_sample(X_6_cv_4_closure_train, y_6_cv_4_closure_train)"
   ]
  },
  {
   "cell_type": "code",
   "execution_count": 42,
   "metadata": {},
   "outputs": [],
   "source": [
    "pca = PCA(n_components=320)\n",
    "pca.fit(X_train_res)\n",
    "X_pca_train=pca.transform(X_train_res)\n",
    "X_pca_test=pca.transform(X_6_cv_4_closure_test)"
   ]
  },
  {
   "cell_type": "code",
   "execution_count": 43,
   "metadata": {},
   "outputs": [
    {
     "name": "stderr",
     "output_type": "stream",
     "text": [
      "C:\\Users\\User\\Anaconda3\\lib\\site-packages\\sklearn\\linear_model\\logistic.py:432: FutureWarning: Default solver will be changed to 'lbfgs' in 0.22. Specify a solver to silence this warning.\n",
      "  FutureWarning)\n"
     ]
    },
    {
     "name": "stdout",
     "output_type": "stream",
     "text": [
      "0    3781\n",
      "1    1582\n",
      "Name: diff, dtype: int64\n",
      "0.29498415066194295\n"
     ]
    }
   ],
   "source": [
    "clf_lr_6_cv_4_closure_lsvc = LogisticRegression(C=10,penalty='l2')\n",
    "clf_lr_6_cv_4_closure_lsvc.fit(X_pca_train, y_train_res)\n",
    "clf_lr_6_cv_4_closure_lsvc_predict=clf_lr_6_cv_4_closure_lsvc.predict(X_pca_test)\n",
    "df_clf_6_cv_4_closure_lsvc=pd.DataFrame()\n",
    "df_clf_6_cv_4_closure_lsvc['diff']=np.abs(clf_lr_6_cv_4_closure_lsvc_predict-y_6_cv_4_closure_test.values.ravel())\n",
    "print(df_clf_6_cv_4_closure_lsvc['diff'].value_counts())\n",
    "print(df_clf_6_cv_4_closure_lsvc['diff'].sum()/len(df_clf_6_cv_4_closure_lsvc['diff']))"
   ]
  },
  {
   "cell_type": "code",
   "execution_count": 44,
   "metadata": {
    "scrolled": true
   },
   "outputs": [
    {
     "data": {
      "text/plain": [
       "array([[ 461,  225],\n",
       "       [1357, 3320]], dtype=int64)"
      ]
     },
     "execution_count": 44,
     "metadata": {},
     "output_type": "execute_result"
    }
   ],
   "source": [
    "confusion_matrix(y_6_cv_4_closure_test,clf_lr_6_cv_4_closure_lsvc_predict)"
   ]
  },
  {
   "cell_type": "code",
   "execution_count": 45,
   "metadata": {},
   "outputs": [],
   "source": [
    "pca_nb = PCA(n_components=320)\n",
    "pca_nb.fit(X_train_res)\n",
    "X_pca_nb_train=pca.transform(X_train_res)\n",
    "X_pca_nb_test=pca.transform(X_6_cv_4_closure_test)"
   ]
  },
  {
   "cell_type": "code",
   "execution_count": 46,
   "metadata": {
    "scrolled": true
   },
   "outputs": [
    {
     "name": "stdout",
     "output_type": "stream",
     "text": [
      "1    3662\n",
      "0    1701\n",
      "Name: diff, dtype: int64\n",
      "0.6828267760581764\n"
     ]
    }
   ],
   "source": [
    "clf_lr_6_cv_4_closure = GaussianNB()\n",
    "clf_lr_6_cv_4_closure.fit(X_pca_nb_train, y_train_res)\n",
    "clf_lr_6_cv_4_closure_predict=clf_lr_6_cv_4_closure.predict(X_pca_nb_test)\n",
    "df_clf_6_cv_4_closure=pd.DataFrame()\n",
    "df_clf_6_cv_4_closure['diff']=np.abs(clf_lr_6_cv_4_closure_predict-y_6_cv_4_closure_test.values.ravel())\n",
    "print(df_clf_6_cv_4_closure['diff'].value_counts())\n",
    "print(df_clf_6_cv_4_closure['diff'].sum()/len(df_clf_6_cv_4_closure['diff']))"
   ]
  },
  {
   "cell_type": "code",
   "execution_count": 47,
   "metadata": {
    "scrolled": true
   },
   "outputs": [
    {
     "data": {
      "text/plain": [
       "array([[ 503,  183],\n",
       "       [3479, 1198]], dtype=int64)"
      ]
     },
     "execution_count": 47,
     "metadata": {},
     "output_type": "execute_result"
    }
   ],
   "source": [
    "confusion_matrix(y_6_cv_4_closure_test,clf_lr_6_cv_4_closure_predict)"
   ]
  },
  {
   "cell_type": "code",
   "execution_count": 48,
   "metadata": {},
   "outputs": [],
   "source": [
    "pca_stack = PCA(n_components=320)\n",
    "pca_stack.fit(X_6_cv_4_closure)\n",
    "array_pca_stack_full=pca.transform(X_6_cv_4_closure)"
   ]
  },
  {
   "cell_type": "code",
   "execution_count": 49,
   "metadata": {},
   "outputs": [],
   "source": [
    "df_pca_stack_full=pd.DataFrame(array_pca_stack_full)"
   ]
  },
  {
   "cell_type": "code",
   "execution_count": 51,
   "metadata": {},
   "outputs": [],
   "source": [
    "df_temp_lr_prob=pd.DataFrame(clf_lr_6_cv_4_closure_lsvc.predict_proba(df_pca_stack_full))"
   ]
  },
  {
   "cell_type": "code",
   "execution_count": 52,
   "metadata": {},
   "outputs": [],
   "source": [
    "df_temp_nb_prob=pd.DataFrame(clf_lr_6_cv_4_closure.predict_proba(df_pca_stack_full))"
   ]
  },
  {
   "cell_type": "code",
   "execution_count": 53,
   "metadata": {},
   "outputs": [],
   "source": [
    "X_pca_stack_full=X_6_cv_4_closure.copy()"
   ]
  },
  {
   "cell_type": "code",
   "execution_count": 54,
   "metadata": {},
   "outputs": [],
   "source": [
    "X_pca_stack_full['lr_prediction_0_prob']=df_temp_lr_prob[0]"
   ]
  },
  {
   "cell_type": "code",
   "execution_count": 55,
   "metadata": {},
   "outputs": [],
   "source": [
    "X_pca_stack_full['nb_prediction_0_prob']=df_temp_nb_prob[0]"
   ]
  },
  {
   "cell_type": "code",
   "execution_count": 56,
   "metadata": {},
   "outputs": [],
   "source": [
    "X_stack_train,X_stack_test,y_stack_train,y_stack_test=train_test_split(X_pca_stack_full,y_6_cv_4_closure,test_size=0.2,random_state=5)"
   ]
  },
  {
   "cell_type": "code",
   "execution_count": 58,
   "metadata": {},
   "outputs": [
    {
     "name": "stderr",
     "output_type": "stream",
     "text": [
      "C:\\Users\\User\\Anaconda3\\lib\\site-packages\\sklearn\\utils\\validation.py:752: DataConversionWarning: A column-vector y was passed when a 1d array was expected. Please change the shape of y to (n_samples, ), for example using ravel().\n",
      "  y = column_or_1d(y, warn=True)\n"
     ]
    }
   ],
   "source": [
    "X_train_res_stack, y_train_res_stack = sm.fit_sample(X_stack_train, y_stack_train)"
   ]
  },
  {
   "cell_type": "code",
   "execution_count": 59,
   "metadata": {},
   "outputs": [],
   "source": [
    "pca_stack = PCA(n_components=95)\n",
    "pca_stack.fit(X_train_res_stack)\n",
    "X_pca_stack_train=pca_stack.transform(X_train_res_stack)\n",
    "X_pca_stack_test=pca_stack.transform(X_stack_test)"
   ]
  },
  {
   "cell_type": "code",
   "execution_count": 60,
   "metadata": {},
   "outputs": [
    {
     "name": "stderr",
     "output_type": "stream",
     "text": [
      "C:\\Users\\User\\Anaconda3\\lib\\site-packages\\sklearn\\linear_model\\logistic.py:432: FutureWarning: Default solver will be changed to 'lbfgs' in 0.22. Specify a solver to silence this warning.\n",
      "  FutureWarning)\n"
     ]
    },
    {
     "name": "stdout",
     "output_type": "stream",
     "text": [
      "0    3783\n",
      "1    1580\n",
      "Name: diff, dtype: int64\n",
      "0.2946112250606004\n"
     ]
    }
   ],
   "source": [
    "clf_lr_6_cv_4_closure_stack = LogisticRegression(C=1000,penalty='l2',max_iter=5000)\n",
    "clf_lr_6_cv_4_closure_stack.fit(X_pca_stack_train, y_train_res_stack)\n",
    "clf_lr_6_cv_4_closure_stack_predict=clf_lr_6_cv_4_closure_stack.predict(X_pca_stack_test)\n",
    "df_clf_6_cv_4_closure_stack=pd.DataFrame()\n",
    "df_clf_6_cv_4_closure_stack['diff']=np.abs(clf_lr_6_cv_4_closure_stack_predict-y_stack_test.values.ravel())\n",
    "print(df_clf_6_cv_4_closure_stack['diff'].value_counts())\n",
    "print(df_clf_6_cv_4_closure_stack['diff'].sum()/len(df_clf_6_cv_4_closure_stack['diff']))"
   ]
  },
  {
   "cell_type": "code",
   "execution_count": 61,
   "metadata": {
    "scrolled": false
   },
   "outputs": [
    {
     "data": {
      "text/plain": [
       "array([[ 467,  219],\n",
       "       [1361, 3316]], dtype=int64)"
      ]
     },
     "execution_count": 61,
     "metadata": {},
     "output_type": "execute_result"
    }
   ],
   "source": [
    "confusion_matrix(y_stack_test,clf_lr_6_cv_4_closure_stack_predict)"
   ]
  },
  {
   "cell_type": "code",
   "execution_count": 13,
   "metadata": {},
   "outputs": [],
   "source": [
    "from sklearn.externals import joblib\n",
    "import pickle"
   ]
  },
  {
   "cell_type": "code",
   "execution_count": 63,
   "metadata": {},
   "outputs": [
    {
     "data": {
      "text/plain": [
       "['restaurant_closure_prediction_model.pkl']"
      ]
     },
     "execution_count": 63,
     "metadata": {},
     "output_type": "execute_result"
    }
   ],
   "source": [
    "joblib.dump(clf_lr_6_cv_4_closure_stack,'restaurant_closure_prediction_model.pkl')"
   ]
  },
  {
   "cell_type": "code",
   "execution_count": 67,
   "metadata": {
    "scrolled": true
   },
   "outputs": [],
   "source": [
    "X_closure_prediction=pca_stack.transform(X_pca_stack_full)"
   ]
  },
  {
   "cell_type": "code",
   "execution_count": 68,
   "metadata": {},
   "outputs": [],
   "source": [
    "with open('restaurant_closure_X.pkl','wb') as file:\n",
    "    pickle.dump(X_closure_prediction,file)"
   ]
  },
  {
   "cell_type": "code",
   "execution_count": 15,
   "metadata": {},
   "outputs": [],
   "source": [
    "with open('restaurant_closure_to_display.pkl','wb') as file:\n",
    "    pickle.dump(df_2018_o_c_dropna[['name','address','categories','state','city','categories_clean_short','is_open']],file)"
   ]
  },
  {
   "cell_type": "code",
   "execution_count": 75,
   "metadata": {},
   "outputs": [],
   "source": [
    "model=joblib.load('restaurant_closure_prediction_model.pkl')"
   ]
  },
  {
   "cell_type": "code",
   "execution_count": 76,
   "metadata": {},
   "outputs": [],
   "source": [
    "with open('restaurant_closure_X.pkl','rb') as file:\n",
    "    data=pickle.load(file)"
   ]
  },
  {
   "cell_type": "code",
   "execution_count": 77,
   "metadata": {},
   "outputs": [
    {
     "data": {
      "text/plain": [
       "array([1, 1, 0, ..., 0, 0, 1], dtype=int64)"
      ]
     },
     "execution_count": 77,
     "metadata": {},
     "output_type": "execute_result"
    }
   ],
   "source": [
    "model.predict(data)"
   ]
  },
  {
   "cell_type": "code",
   "execution_count": 78,
   "metadata": {
    "scrolled": true
   },
   "outputs": [
    {
     "data": {
      "text/plain": [
       "array([[ 2503,  1006],\n",
       "       [ 6397, 16908]], dtype=int64)"
      ]
     },
     "execution_count": 78,
     "metadata": {},
     "output_type": "execute_result"
    }
   ],
   "source": [
    "confusion_matrix(y_6_cv_4_closure,model.predict(data))"
   ]
  },
  {
   "cell_type": "code",
   "execution_count": 79,
   "metadata": {},
   "outputs": [
    {
     "data": {
      "text/plain": [
       "0.713308634938729"
      ]
     },
     "execution_count": 79,
     "metadata": {},
     "output_type": "execute_result"
    }
   ],
   "source": [
    "2503/(2503+1006)"
   ]
  },
  {
   "cell_type": "code",
   "execution_count": 80,
   "metadata": {},
   "outputs": [
    {
     "data": {
      "text/plain": [
       "0.7255095473074448"
      ]
     },
     "execution_count": 80,
     "metadata": {},
     "output_type": "execute_result"
    }
   ],
   "source": [
    "16908/(16908+6397)"
   ]
  }
 ],
 "metadata": {
  "kernelspec": {
   "display_name": "Python 3",
   "language": "python",
   "name": "python3"
  },
  "language_info": {
   "codemirror_mode": {
    "name": "ipython",
    "version": 3
   },
   "file_extension": ".py",
   "mimetype": "text/x-python",
   "name": "python",
   "nbconvert_exporter": "python",
   "pygments_lexer": "ipython3",
   "version": "3.6.6"
  }
 },
 "nbformat": 4,
 "nbformat_minor": 2
}
