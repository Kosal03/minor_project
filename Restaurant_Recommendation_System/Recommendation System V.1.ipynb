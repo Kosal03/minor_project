{
 "cells": [
  {
   "cell_type": "markdown",
   "metadata": {},
   "source": [
    "# Capstone Project:\n",
    "# Data Preparation <- This part won't be shown in M&G session, but in this stage is to get meaningful features as many as possible (<-some features were dropped due to non-realistic meaning, less variance, weak assumption had to make behind, some are transformed in EDA[Exploratory Data Analysis] part\n",
    "\n",
    "# Data Cleaning <- Some statistical/logical/sensible ideas how to get/fill/transform to obtain/expend features in the following fields [Numerical, Categorical, Text (<-NLP to get sentimental and syntactic information),Time] <- This part may discuss during M&G, depending on the other side's interests\n",
    "\n",
    "# Modelling: \n",
    "## Phase I: Restaurant Recommendation System"
   ]
  },
  {
   "cell_type": "markdown",
   "metadata": {},
   "source": [
    "# Capstone Project Phase I: Restaurant Recommendation System (RRS)\n",
    "\n",
    "## Purpose:\n",
    "### Recommendation is not an actual regression or classification problem, based on the user past visited restaurants, this system will find other customers who are similar to the user [vectorise, customer matrix], according to their past experience, generate a list of restaurants the user may interested. Then the recommended restaurants will be generated based on similar customers historical data to the current user.\n",
    "\n",
    "## Part I: Customer Similarity Compuatation:\n",
    "## Assumption:\n",
    "### 1.Similar users will highly likely have similar preference/interest in the target label<- Restaurants\n",
    "\n",
    "## Approach:\n",
    "### Cosine similarity to get similarity matrix and find the most n (<=10 by default) similar customers\n",
    "### Count and sort similar restaurants all the similar customers visited before <= Get the most frequently visited restaurants\n",
    "### Rank the baseline restaurant by stars and visit frequency\n",
    "\n",
    "### Output: base line restaurants to generate restaurant recommendation for the user(<=must be in the database, otherwise it is a cold start, If it is a cold start, all not visited, It cannot find a explanable similarity <= limitation 1)\n",
    "\n",
    "## Part II: Restaurant Recommendation:\n",
    "## Assumption:\n",
    "### 1.User matrix . Restaurant matrix => Rating matrix (svd:http://www.cs.carleton.edu/cs_comps/0607/recommend/recommender/svd.html)\n",
    "\n",
    "### Output: 3 Recommended restaurants\n",
    "\n",
    "## Approach:\n",
    "### Cosine similarity to get similarity matrix and find the most n (<=3 by default) similar restaurants\n",
    "\n",
    "## Part III: Customer Restaurant Rating Recommendation:\n",
    "## Assumption:\n",
    "### 1.There is a relationship between  customer, restaurant and rank\n",
    "\n",
    "## Approach:\n",
    "### KNN, SVD, Deep Learning\n",
    "\n",
    "### Output: Recommended ranks for the 3 recommended restaurants <=Rank the 3 recommended restaurants for the user\n",
    "\n",
    "## Part IV: Text filter and extraction:\n",
    "## Output: wordcloud to give user and most frequent attribute/categories of the 3 restaurants and all attributes/categories the 3 restaurants have. <=The reason why it is recommended "
   ]
  },
  {
   "cell_type": "markdown",
   "metadata": {},
   "source": [
    "# Take a note: All data cleaning and preparation part won't be included in this notebook"
   ]
  },
  {
   "cell_type": "code",
   "execution_count": 1,
   "metadata": {},
   "outputs": [],
   "source": [
    "import pandas as pd\n",
    "import numpy as np\n",
    "import json\n",
    "import operator\n",
    "import seaborn as sns\n",
    "from ast import literal_eval\n",
    "from sklearn.feature_extraction.text import CountVectorizer\n",
    "from sklearn.metrics.pairwise import cosine_similarity\n",
    "from collections import Counter\n",
    "############################################################\n",
    "from surprise import Reader, Dataset, SVD, evaluate\n",
    "from surprise import KNNBasic\n",
    "from surprise.accuracy import rmse\n",
    "from surprise import dump\n",
    "############################################################\n",
    "from wordcloud import WordCloud, STOPWORDS\n",
    "import matplotlib.pyplot as plt\n",
    "%matplotlib inline"
   ]
  },
  {
   "cell_type": "markdown",
   "metadata": {},
   "source": [
    "# Start I: Customer Similarity Compuatation"
   ]
  },
  {
   "cell_type": "code",
   "execution_count": 2,
   "metadata": {},
   "outputs": [],
   "source": [
    "df_matrix3=pd.read_csv('./rec_temp_11_Nov.csv')\n",
    "df_matrix3.rename({'Unnamed: 0':'user'},axis=1,inplace=True)\n",
    "df_matrix3.restaurant_dictionary=df_matrix3.restaurant_dictionary.apply(literal_eval)"
   ]
  },
  {
   "cell_type": "code",
   "execution_count": 3,
   "metadata": {},
   "outputs": [],
   "source": [
    "def find_n_most_similar_customer(user_id,start_col='Kazu',end_col='La Folie',n_of_similar_user=10):\n",
    "    top_n_similar_user_id=[]\n",
    "    top_n_similar_user_similarity=[]\n",
    "    user_similarity=cosine_similarity(df_matrix3.loc[:,start_col:end_col],df_matrix3.loc[:,start_col:end_col])\n",
    "    top_n_similar_user_id=np.argsort(user_similarity)[user_id][-(n_of_similar_user+1):-1]\n",
    "    for similar_user_id in top_n_similar_user_id:\n",
    "        top_n_similar_user_similarity.append(user_similarity[user_id][similar_user_id])\n",
    "    \n",
    "    print('Customer%d has %d similar users who are:'%(user_id,n_of_similar_user))\n",
    "    print(top_n_similar_user_id)\n",
    "    print('The similarity to customer%d are:'%user_id)\n",
    "    print(top_n_similar_user_similarity)\n",
    "    print('-'*110)\n",
    "    similar_dict=dict(zip(top_n_similar_user_id,top_n_similar_user_similarity))\n",
    "    print(similar_dict)    \n",
    "    return similar_dict"
   ]
  },
  {
   "cell_type": "code",
   "execution_count": 5,
   "metadata": {},
   "outputs": [],
   "source": [
    "def find_most_popular_restaurants_rated_by_similar_customers(user_list):\n",
    "    temp_keys=[]\n",
    "    for user in user_list:\n",
    "        temp_keys.extend(list(df_matrix3.restaurant_dictionary[user].keys()))\n",
    "    #print(temp_keys)\n",
    "    c = Counter(temp_keys)\n",
    "    dict_c=dict(c.most_common(10))#10 most commonly visited restaurants\n",
    "    #print (dict(c.most_common(10)))\n",
    "    \n",
    "    restaurant_rate_dict={}\n",
    "    for item in np.unique(temp_keys):# Calculate averaged rating of unique restaurants by similar customers\n",
    "        temp_restaurant_rates=[]\n",
    "        for user in user_list:#find all users who visited same restaurants and get the mean rating \n",
    "            if item in df_matrix3.restaurant_dictionary[user].keys():\n",
    "                temp_restaurant_rates.append(float(df_matrix3.restaurant_dictionary[user][item]))\n",
    "        restaurant_rate_dict[item]=np.mean(temp_restaurant_rates)\n",
    "    #print(restaurant_rate_dict)   \n",
    "    rest_list=[]\n",
    "    for key in dict_c.keys():\n",
    "        if key in dict(sorted(restaurant_rate_dict.items(), key=operator.itemgetter(1),reverse=True)[:round(len(np.unique(temp_keys))/3)]).keys():\n",
    "            rest_list.append(key)\n",
    "    print('Those customers like you are highly likely choose restaurant:')\n",
    "    #print('Recommendation Base: 'rest_list)\n",
    "    return rest_list\n",
    "    #print(rest_list)\n",
    "    #print(len(np.unique(temp_keys)))"
   ]
  },
  {
   "cell_type": "code",
   "execution_count": 6,
   "metadata": {},
   "outputs": [
    {
     "name": "stdout",
     "output_type": "stream",
     "text": [
      "Customer1 has 10 similar users who are:\n",
      "[ 660 2747 2038 1991  270  519  136 2029 1397 1679]\n",
      "The similarity to customer1 are:\n",
      "[0.36298586076615, 0.3664995809446187, 0.3716090549072162, 0.37506656463749266, 0.38438800334536877, 0.3987783987361978, 0.4168439339227895, 0.42107596053325946, 0.5160661630703738, 0.549749371416928]\n",
      "--------------------------------------------------------------------------------------------------------------\n",
      "{660: 0.36298586076615, 2747: 0.3664995809446187, 2038: 0.3716090549072162, 1991: 0.37506656463749266, 270: 0.38438800334536877, 519: 0.3987783987361978, 136: 0.4168439339227895, 2029: 0.42107596053325946, 1397: 0.5160661630703738, 1679: 0.549749371416928}\n",
      "Those customers like you are highly likely choose restaurant:\n"
     ]
    }
   ],
   "source": [
    "rest_baseline=find_most_popular_restaurants_rated_by_similar_customers(find_n_most_similar_customer(1,start_col='Kazu',end_col='La Folie',n_of_similar_user=10))"
   ]
  },
  {
   "cell_type": "markdown",
   "metadata": {},
   "source": [
    "# Continue II: Restaurant Recommendation"
   ]
  },
  {
   "cell_type": "code",
   "execution_count": 7,
   "metadata": {},
   "outputs": [],
   "source": [
    "df_business_QC=pd.read_csv('./yelp_business_to_use_nov_8_QC.csv')"
   ]
  },
  {
   "cell_type": "code",
   "execution_count": 8,
   "metadata": {},
   "outputs": [
    {
     "name": "stderr",
     "output_type": "stream",
     "text": [
      "C:\\Users\\User\\Anaconda3\\lib\\site-packages\\scipy\\stats\\stats.py:1713: FutureWarning: Using a non-tuple sequence for multidimensional indexing is deprecated; use `arr[tuple(seq)]` instead of `arr[seq]`. In the future this will be interpreted as an array index, `arr[np.array(seq)]`, which will result either in an error or a different result.\n",
      "  return np.add.reduce(sorted[indexer] * weights, axis=axis) / sumval\n"
     ]
    },
    {
     "data": {
      "text/plain": [
       "<matplotlib.axes._subplots.AxesSubplot at 0x1d75abbb2e8>"
      ]
     },
     "execution_count": 8,
     "metadata": {},
     "output_type": "execute_result"
    },
    {
     "data": {
      "image/png": "[encoded data removed]",
      "text/plain": [
       "<Figure size 432x288 with 1 Axes>"
      ]
     },
     "metadata": {
      "needs_background": "light"
     },
     "output_type": "display_data"
    }
   ],
   "source": [
    "num_col=['name','city','review_count','stars','BikeParking','Caters',\n",
    "         'GoodForKids','HasTV','OutdoorSeating','RestaurantsDelivery',\n",
    "         'RestaurantsGoodForGroups','RestaurantsPriceRange2','RestaurantsReservations','RestaurantsTableService',\n",
    "        'Monday_num_of_chkins','Tuesday_num_of_chkins','Wednesday_num_of_chkins','Thursday_num_of_chkins',\n",
    "         'Friday_num_of_chkins','Saturday_num_of_chkins','Sunday_num_of_chkins','review_year_diff']\n",
    "start_col='review_count'\n",
    "end_col='review_year_diff'\n",
    "df_restaurant_matrix=df_business_QC[num_col]\n",
    "df_restaurant_matrix=df_restaurant_matrix.reset_index()\n",
    "df_restaurant_matrix.rename({'index':'restaurant_index',},axis='columns',inplace=True)\n",
    "df_restaurant_matrix.restaurant_index=df_restaurant_matrix.restaurant_index.map(lambda x:'restaurant'+str(x))\n",
    "df_restaurant_matrix=df_restaurant_matrix.reset_index()\n",
    "df_restaurant_matrix.rename({'index':'restaurant',},axis='columns',inplace=True)\n",
    "vec=CountVectorizer(stop_words='english')\n",
    "df_attr_cat_one_hot=pd.DataFrame(vec.fit_transform(df_business_QC.categories_clean+df_business_QC.attribute).toarray(),columns=vec.get_feature_names())\n",
    "df_restaurant_matrix=df_restaurant_matrix.fillna(0)\n",
    "df_restaurant_matrix=pd.concat([df_restaurant_matrix,df_attr_cat_one_hot],axis=1)\n",
    "sns.distplot(cosine_similarity(df_restaurant_matrix.loc[:,'review_count':],df_restaurant_matrix.loc[:,'review_count':])[0])"
   ]
  },
  {
   "cell_type": "code",
   "execution_count": 9,
   "metadata": {},
   "outputs": [],
   "source": [
    "'''\n",
    "some restaurant variable using short form of rest\n",
    "'''\n",
    "def generate_n_most_similar_restaurant(rest_list,start_col='review_count',end_col='wings',n_of_similar_restaurant=10,n_of_recommended_restaurant=3):\n",
    "    top_n_similar_user_rest_preference_id=[]\n",
    "    for restaurant in rest_list:\n",
    "        top_n_similar_user_rest_preference_id.extend(df_restaurant_matrix[df_restaurant_matrix.name==restaurant].index)\n",
    "    top_n_similar_user_rest_preference_id=list(np.unique(top_n_similar_user_rest_preference_id))#Get similar customers' restaurants index preference\n",
    "    #print(top_n_similar_user_rest_preference_id)\n",
    "    \n",
    "    df_ref=pd.DataFrame(columns=df_restaurant_matrix.loc[:,start_col:].columns)#temp avg scored user_preference_vector\n",
    "    df_ref.loc[0,:]=df_restaurant_matrix.loc[top_n_similar_user_rest_preference_id,start_col:].mean()\n",
    "    \n",
    "    restaurant_similarity=cosine_similarity(df_ref,df_restaurant_matrix.loc[:,start_col:]) #compute restaurants similarity\n",
    "    \n",
    "    #recommended_rest_list=[]\n",
    "    #for rest_index in top_n_similar_user_rest_preference_id:\n",
    "    top_n_similar_rest_id=np.argsort(restaurant_similarity)[0][-(n_of_similar_restaurant+1):-1]\n",
    "    top_3_recomend_rest=list(df_business_QC.loc[top_n_similar_rest_id,'stars'].sort_values(ascending=False)[:n_of_recommended_restaurant].index)\n",
    "    #recommended_rest_list.extend(top_3_recomend_rest)\n",
    "    print('Recommended 3 Top Restaurants ID: '+ str(top_3_recomend_rest))\n",
    "    rest_name_3_top=[]\n",
    "    for ind in top_3_recomend_rest:\n",
    "        rest_name_3_top.append(df_business_QC.loc[ind,'name'])\n",
    "    print('Recommended 3 Top Restaurants Name: '+ str(rest_name_3_top))\n",
    "    #print(list(np.unique(top_3_recomend_rest)))\n",
    "    return top_3_recomend_rest"
   ]
  },
  {
   "cell_type": "code",
   "execution_count": 10,
   "metadata": {},
   "outputs": [
    {
     "name": "stdout",
     "output_type": "stream",
     "text": [
      "Customer1 has 10 similar users who are:\n",
      "[ 660 2747 2038 1991  270  519  136 2029 1397 1679]\n",
      "The similarity to customer1 are:\n",
      "[0.36298586076615, 0.3664995809446187, 0.3716090549072162, 0.37506656463749266, 0.38438800334536877, 0.3987783987361978, 0.4168439339227895, 0.42107596053325946, 0.5160661630703738, 0.549749371416928]\n",
      "--------------------------------------------------------------------------------------------------------------\n",
      "{660: 0.36298586076615, 2747: 0.3664995809446187, 2038: 0.3716090549072162, 1991: 0.37506656463749266, 270: 0.38438800334536877, 519: 0.3987783987361978, 136: 0.4168439339227895, 2029: 0.42107596053325946, 1397: 0.5160661630703738, 1679: 0.549749371416928}\n",
      "Those customers like you are highly likely choose restaurant:\n",
      "Recommended 3 Top Restaurants ID: [283, 1185, 627]\n",
      "Recommended 3 Top Restaurants Name: ['Maison Boulud', 'Ma Poule Mouillée', \"L'Avenue\"]\n"
     ]
    },
    {
     "data": {
      "text/plain": [
       "[283, 1185, 627]"
      ]
     },
     "execution_count": 10,
     "metadata": {},
     "output_type": "execute_result"
    }
   ],
   "source": [
    "user_reg=1\n",
    "generate_n_most_similar_restaurant(find_most_popular_restaurants_rated_by_similar_customers(find_n_most_similar_customer(user_reg,start_col='Kazu',end_col='La Folie',n_of_similar_user=10)))"
   ]
  },
  {
   "cell_type": "markdown",
   "metadata": {},
   "source": [
    "# Continue III: User Rating Recommendation"
   ]
  },
  {
   "cell_type": "code",
   "execution_count": 11,
   "metadata": {},
   "outputs": [],
   "source": [
    "df_review_user_rest=pd.read_csv('./rating_recommendation_base_15_nov.csv')\n",
    "df_rating_matrix=df_review_user_rest[['user','restaurant','stars']]\n",
    "df_rating_matrix=df_rating_matrix.pivot(index = 'user', columns ='restaurant', values = 'stars').fillna(0)"
   ]
  },
  {
   "cell_type": "code",
   "execution_count": 12,
   "metadata": {},
   "outputs": [],
   "source": [
    "reader = Reader()\n",
    "data = Dataset.load_from_df(df_review_user_rest[['user','restaurant','stars']], reader)\n",
    "data.split(n_folds=5)"
   ]
  },
  {
   "cell_type": "code",
   "execution_count": 29,
   "metadata": {},
   "outputs": [
    {
     "name": "stderr",
     "output_type": "stream",
     "text": [
      "C:\\Users\\User\\Anaconda3\\lib\\site-packages\\surprise\\dataset.py:193: UserWarning: Using data.split() or using load_from_folds() without using a CV iterator is now deprecated. \n",
      "  UserWarning)\n",
      "C:\\Users\\User\\Anaconda3\\lib\\site-packages\\surprise\\prediction_algorithms\\algo_base.py:51: UserWarning: train() is deprecated. Use fit() instead\n",
      "  warnings.warn('train() is deprecated. Use fit() instead', UserWarning)\n",
      "C:\\Users\\User\\Anaconda3\\lib\\site-packages\\surprise\\prediction_algorithms\\algo_base.py:51: UserWarning: train() is deprecated. Use fit() instead\n",
      "  warnings.warn('train() is deprecated. Use fit() instead', UserWarning)\n"
     ]
    },
    {
     "name": "stdout",
     "output_type": "stream",
     "text": [
      "Estimating biases using als...\n",
      "Computing the pearson_baseline similarity matrix...\n"
     ]
    },
    {
     "name": "stderr",
     "output_type": "stream",
     "text": [
      "C:\\Users\\User\\Anaconda3\\lib\\site-packages\\surprise\\prediction_algorithms\\algo_base.py:51: UserWarning: train() is deprecated. Use fit() instead\n",
      "  warnings.warn('train() is deprecated. Use fit() instead', UserWarning)\n"
     ]
    },
    {
     "name": "stdout",
     "output_type": "stream",
     "text": [
      "Done computing similarity matrix.\n",
      "Computing the cosine similarity matrix...\n",
      "Done computing similarity matrix.\n",
      "SVD\n",
      "RMSE: 0.9650\n",
      "-------------------------\n",
      "KNN_Base\n",
      "RMSE: 1.1230\n",
      "-------------------------\n",
      "KNN_Cos\n",
      "RMSE: 1.0819\n",
      "-------------------------\n"
     ]
    },
    {
     "name": "stderr",
     "output_type": "stream",
     "text": [
      "C:\\Users\\User\\Anaconda3\\lib\\site-packages\\surprise\\prediction_algorithms\\algo_base.py:51: UserWarning: train() is deprecated. Use fit() instead\n",
      "  warnings.warn('train() is deprecated. Use fit() instead', UserWarning)\n",
      "C:\\Users\\User\\Anaconda3\\lib\\site-packages\\surprise\\prediction_algorithms\\algo_base.py:51: UserWarning: train() is deprecated. Use fit() instead\n",
      "  warnings.warn('train() is deprecated. Use fit() instead', UserWarning)\n"
     ]
    },
    {
     "name": "stdout",
     "output_type": "stream",
     "text": [
      "Estimating biases using als...\n",
      "Computing the pearson_baseline similarity matrix...\n"
     ]
    },
    {
     "name": "stderr",
     "output_type": "stream",
     "text": [
      "C:\\Users\\User\\Anaconda3\\lib\\site-packages\\surprise\\prediction_algorithms\\algo_base.py:51: UserWarning: train() is deprecated. Use fit() instead\n",
      "  warnings.warn('train() is deprecated. Use fit() instead', UserWarning)\n"
     ]
    },
    {
     "name": "stdout",
     "output_type": "stream",
     "text": [
      "Done computing similarity matrix.\n",
      "Computing the cosine similarity matrix...\n",
      "Done computing similarity matrix.\n",
      "SVD\n",
      "RMSE: 0.9830\n",
      "-------------------------\n",
      "KNN_Base\n",
      "RMSE: 1.1286\n",
      "-------------------------\n",
      "KNN_Cos\n",
      "RMSE: 1.0990\n",
      "-------------------------\n"
     ]
    },
    {
     "name": "stderr",
     "output_type": "stream",
     "text": [
      "C:\\Users\\User\\Anaconda3\\lib\\site-packages\\surprise\\prediction_algorithms\\algo_base.py:51: UserWarning: train() is deprecated. Use fit() instead\n",
      "  warnings.warn('train() is deprecated. Use fit() instead', UserWarning)\n",
      "C:\\Users\\User\\Anaconda3\\lib\\site-packages\\surprise\\prediction_algorithms\\algo_base.py:51: UserWarning: train() is deprecated. Use fit() instead\n",
      "  warnings.warn('train() is deprecated. Use fit() instead', UserWarning)\n"
     ]
    },
    {
     "name": "stdout",
     "output_type": "stream",
     "text": [
      "Estimating biases using als...\n",
      "Computing the pearson_baseline similarity matrix...\n"
     ]
    },
    {
     "name": "stderr",
     "output_type": "stream",
     "text": [
      "C:\\Users\\User\\Anaconda3\\lib\\site-packages\\surprise\\prediction_algorithms\\algo_base.py:51: UserWarning: train() is deprecated. Use fit() instead\n",
      "  warnings.warn('train() is deprecated. Use fit() instead', UserWarning)\n"
     ]
    },
    {
     "name": "stdout",
     "output_type": "stream",
     "text": [
      "Done computing similarity matrix.\n",
      "Computing the cosine similarity matrix...\n",
      "Done computing similarity matrix.\n",
      "SVD\n",
      "RMSE: 0.9680\n",
      "-------------------------\n",
      "KNN_Base\n",
      "RMSE: 1.1247\n",
      "-------------------------\n",
      "KNN_Cos\n",
      "RMSE: 1.0931\n",
      "-------------------------\n"
     ]
    },
    {
     "name": "stderr",
     "output_type": "stream",
     "text": [
      "C:\\Users\\User\\Anaconda3\\lib\\site-packages\\surprise\\prediction_algorithms\\algo_base.py:51: UserWarning: train() is deprecated. Use fit() instead\n",
      "  warnings.warn('train() is deprecated. Use fit() instead', UserWarning)\n",
      "C:\\Users\\User\\Anaconda3\\lib\\site-packages\\surprise\\prediction_algorithms\\algo_base.py:51: UserWarning: train() is deprecated. Use fit() instead\n",
      "  warnings.warn('train() is deprecated. Use fit() instead', UserWarning)\n"
     ]
    },
    {
     "name": "stdout",
     "output_type": "stream",
     "text": [
      "Estimating biases using als...\n",
      "Computing the pearson_baseline similarity matrix...\n"
     ]
    },
    {
     "name": "stderr",
     "output_type": "stream",
     "text": [
      "C:\\Users\\User\\Anaconda3\\lib\\site-packages\\surprise\\prediction_algorithms\\algo_base.py:51: UserWarning: train() is deprecated. Use fit() instead\n",
      "  warnings.warn('train() is deprecated. Use fit() instead', UserWarning)\n"
     ]
    },
    {
     "name": "stdout",
     "output_type": "stream",
     "text": [
      "Done computing similarity matrix.\n",
      "Computing the cosine similarity matrix...\n",
      "Done computing similarity matrix.\n",
      "SVD\n",
      "RMSE: 0.9703\n",
      "-------------------------\n",
      "KNN_Base\n",
      "RMSE: 1.1381\n",
      "-------------------------\n",
      "KNN_Cos\n",
      "RMSE: 1.0924\n",
      "-------------------------\n"
     ]
    },
    {
     "name": "stderr",
     "output_type": "stream",
     "text": [
      "C:\\Users\\User\\Anaconda3\\lib\\site-packages\\surprise\\prediction_algorithms\\algo_base.py:51: UserWarning: train() is deprecated. Use fit() instead\n",
      "  warnings.warn('train() is deprecated. Use fit() instead', UserWarning)\n",
      "C:\\Users\\User\\Anaconda3\\lib\\site-packages\\surprise\\prediction_algorithms\\algo_base.py:51: UserWarning: train() is deprecated. Use fit() instead\n",
      "  warnings.warn('train() is deprecated. Use fit() instead', UserWarning)\n"
     ]
    },
    {
     "name": "stdout",
     "output_type": "stream",
     "text": [
      "Estimating biases using als...\n",
      "Computing the pearson_baseline similarity matrix...\n"
     ]
    },
    {
     "name": "stderr",
     "output_type": "stream",
     "text": [
      "C:\\Users\\User\\Anaconda3\\lib\\site-packages\\surprise\\prediction_algorithms\\algo_base.py:51: UserWarning: train() is deprecated. Use fit() instead\n",
      "  warnings.warn('train() is deprecated. Use fit() instead', UserWarning)\n"
     ]
    },
    {
     "name": "stdout",
     "output_type": "stream",
     "text": [
      "Done computing similarity matrix.\n",
      "Computing the cosine similarity matrix...\n",
      "Done computing similarity matrix.\n",
      "SVD\n",
      "RMSE: 0.9762\n",
      "-------------------------\n",
      "KNN_Base\n",
      "RMSE: 1.1361\n",
      "-------------------------\n",
      "KNN_Cos\n",
      "RMSE: 1.0990\n",
      "-------------------------\n"
     ]
    }
   ],
   "source": [
    "# Use the SVD algorithm.\n",
    "# Example using cosine similarity\n",
    "sim_options_cos = {'name': 'cosine',\n",
    "               'user_based': False  # compute  similarities between items\n",
    "               }\n",
    "# Example using pearson_baseline similarity\n",
    "sim_options_base = {'name': 'pearson_baseline',\n",
    "               'shrinkage': 0  # no shrinkage\n",
    "               }\n",
    "\n",
    "svd = SVD()\n",
    "knn_base = KNNBasic(sim_options=sim_options_base)\n",
    "knn_cos = KNNBasic(sim_options=sim_options_cos)\n",
    "# Compute the RMSE of the SVD algorithm.\n",
    "#evaluate(svd, data, measures=['RMSE'])\n",
    "\n",
    "for trainset, testset in data.folds(): \n",
    "    svd.train(trainset)                             \n",
    "    predictions_svd = svd.test(testset)\n",
    "\n",
    "    knn_base.train(trainset)\n",
    "    predictions_knn_base = knn_base.test(testset)\n",
    "\n",
    "    knn_cos.train(trainset)\n",
    "    predictions_knn_cos = knn_cos.test(testset)\n",
    "    \n",
    "    print('SVD')\n",
    "    rmse(predictions_svd)\n",
    "    print('-'*25)\n",
    "    print('KNN_Base')\n",
    "    rmse(predictions_knn_base)\n",
    "    print('-'*25)\n",
    "    print('KNN_Cos')\n",
    "    rmse(predictions_knn_cos)\n",
    "    print('-'*25)\n",
    "    \n",
    "    dump.dump('./dump_SVD', predictions_svd, svd)\n",
    "    dump.dump('./dump_KNN_base', predictions_knn_base, knn_base)\n",
    "    dump.dump('./dump_KNN_cos', predictions_knn_cos, knn_cos)"
   ]
  },
  {
   "cell_type": "code",
   "execution_count": 13,
   "metadata": {},
   "outputs": [],
   "source": [
    "predictions_svd, algo_svd = dump.load('./dump_SVD')\n",
    "df_svd = pd.DataFrame(predictions_svd, columns=['uid', 'iid', 'rui', 'est', 'details'])\n",
    "df_svd['err'] = abs(df_svd.est - df_svd.rui)"
   ]
  },
  {
   "cell_type": "code",
   "execution_count": 14,
   "metadata": {},
   "outputs": [
    {
     "data": {
      "text/plain": [
       "5409.0"
      ]
     },
     "execution_count": 14,
     "metadata": {},
     "output_type": "execute_result"
    }
   ],
   "source": [
    "abs(df_svd.est.map(lambda x:np.round(x,0))-df_svd.rui).sum()"
   ]
  },
  {
   "cell_type": "code",
   "execution_count": 15,
   "metadata": {},
   "outputs": [
    {
     "data": {
      "text/plain": [
       "5687.092987292062"
      ]
     },
     "execution_count": 15,
     "metadata": {},
     "output_type": "execute_result"
    }
   ],
   "source": [
    "df_svd.err.sum()"
   ]
  },
  {
   "cell_type": "code",
   "execution_count": 16,
   "metadata": {},
   "outputs": [
    {
     "name": "stdout",
     "output_type": "stream",
     "text": [
      "Customer1 has 10 similar users who are:\n",
      "[ 660 2747 2038 1991  270  519  136 2029 1397 1679]\n",
      "The similarity to customer1 are:\n",
      "[0.36298586076615, 0.3664995809446187, 0.3716090549072162, 0.37506656463749266, 0.38438800334536877, 0.3987783987361978, 0.4168439339227895, 0.42107596053325946, 0.5160661630703738, 0.549749371416928]\n",
      "--------------------------------------------------------------------------------------------------------------\n",
      "{660: 0.36298586076615, 2747: 0.3664995809446187, 2038: 0.3716090549072162, 1991: 0.37506656463749266, 270: 0.38438800334536877, 519: 0.3987783987361978, 136: 0.4168439339227895, 2029: 0.42107596053325946, 1397: 0.5160661630703738, 1679: 0.549749371416928}\n",
      "Those customers like you are highly likely choose restaurant:\n",
      "Recommended 3 Top Restaurants ID: [283, 1185, 627]\n",
      "Recommended 3 Top Restaurants Name: ['Maison Boulud', 'Ma Poule Mouillée', \"L'Avenue\"]\n"
     ]
    }
   ],
   "source": [
    "user=user_reg\n",
    "restaurant_rec=generate_n_most_similar_restaurant(find_most_popular_restaurants_rated_by_similar_customers(find_n_most_similar_customer(user_reg,start_col='Kazu',end_col='La Folie',n_of_similar_user=10)))"
   ]
  },
  {
   "cell_type": "code",
   "execution_count": 35,
   "metadata": {
    "scrolled": false
   },
   "outputs": [
    {
     "name": "stdout",
     "output_type": "stream",
     "text": [
      "user: 1          item: 283        r_ui = 0.00   est = 4.86   {'was_impossible': False}\n",
      "user: 1          item: 1185       r_ui = 0.00   est = 4.90   {'was_impossible': False}\n",
      "user: 1          item: 627        r_ui = 0.00   est = 4.78   {'was_impossible': False}\n"
     ]
    }
   ],
   "source": [
    "for rest in restaurant_rec:\n",
    "    algo_svd.predict(uid=user, iid=rest, r_ui=0, verbose=True)"
   ]
  },
  {
   "cell_type": "code",
   "execution_count": 42,
   "metadata": {
    "scrolled": true
   },
   "outputs": [
    {
     "data": {
      "text/html": [
       "<div>\n",
       "<style scoped>\n",
       "    .dataframe tbody tr th:only-of-type {\n",
       "        vertical-align: middle;\n",
       "    }\n",
       "\n",
       "    .dataframe tbody tr th {\n",
       "        vertical-align: top;\n",
       "    }\n",
       "\n",
       "    .dataframe thead th {\n",
       "        text-align: right;\n",
       "    }\n",
       "</style>\n",
       "<table border=\"1\" class=\"dataframe\">\n",
       "  <thead>\n",
       "    <tr style=\"text-align: right;\">\n",
       "      <th></th>\n",
       "      <th>34</th>\n",
       "      <th>239</th>\n",
       "      <th>402</th>\n",
       "      <th>627</th>\n",
       "    </tr>\n",
       "  </thead>\n",
       "  <tbody>\n",
       "    <tr>\n",
       "      <th>name</th>\n",
       "      <td>L'Avenue</td>\n",
       "      <td>Tommy</td>\n",
       "      <td>Pikolo</td>\n",
       "      <td>L'Avenue</td>\n",
       "    </tr>\n",
       "    <tr>\n",
       "      <th>attribute</th>\n",
       "      <td>['full_bar', ' casual', ' street', ' brunch', ...</td>\n",
       "      <td>[' casual', ' street', ' brunch', 'average', '...</td>\n",
       "      <td>[' casual', ' street', ' breakfast', 'average'...</td>\n",
       "      <td>['full_bar', ' trendy', ' street', ' brunch', ...</td>\n",
       "    </tr>\n",
       "    <tr>\n",
       "      <th>categories_clean</th>\n",
       "      <td>[' breakfast &amp; brunch']</td>\n",
       "      <td>[' breakfast &amp; brunch', ' coffee &amp; tea', ' caf...</td>\n",
       "      <td>['breakfast &amp; brunch', ' cafes', ' coffee &amp; tea']</td>\n",
       "      <td>['breakfast &amp; brunch', ' canadian (new)', ' bu...</td>\n",
       "    </tr>\n",
       "  </tbody>\n",
       "</table>\n",
       "</div>"
      ],
      "text/plain": [
       "                                                                34   \\\n",
       "name                                                       L'Avenue   \n",
       "attribute         ['full_bar', ' casual', ' street', ' brunch', ...   \n",
       "categories_clean                            [' breakfast & brunch']   \n",
       "\n",
       "                                                                239  \\\n",
       "name                                                          Tommy   \n",
       "attribute         [' casual', ' street', ' brunch', 'average', '...   \n",
       "categories_clean  [' breakfast & brunch', ' coffee & tea', ' caf...   \n",
       "\n",
       "                                                                402  \\\n",
       "name                                                         Pikolo   \n",
       "attribute         [' casual', ' street', ' breakfast', 'average'...   \n",
       "categories_clean  ['breakfast & brunch', ' cafes', ' coffee & tea']   \n",
       "\n",
       "                                                                627  \n",
       "name                                                       L'Avenue  \n",
       "attribute         ['full_bar', ' trendy', ' street', ' brunch', ...  \n",
       "categories_clean  ['breakfast & brunch', ' canadian (new)', ' bu...  "
      ]
     },
     "execution_count": 42,
     "metadata": {},
     "output_type": "execute_result"
    }
   ],
   "source": [
    "'''\n",
    "Base\n",
    "'''\n",
    "df_business_QC[df_business_QC.name.isin(rest_baseline)][['name','attribute','categories_clean']].T"
   ]
  },
  {
   "cell_type": "code",
   "execution_count": 50,
   "metadata": {
    "scrolled": true
   },
   "outputs": [
    {
     "data": {
      "text/html": [
       "<div>\n",
       "<style scoped>\n",
       "    .dataframe tbody tr th:only-of-type {\n",
       "        vertical-align: middle;\n",
       "    }\n",
       "\n",
       "    .dataframe tbody tr th {\n",
       "        vertical-align: top;\n",
       "    }\n",
       "\n",
       "    .dataframe thead th {\n",
       "        text-align: right;\n",
       "    }\n",
       "</style>\n",
       "<table border=\"1\" class=\"dataframe\">\n",
       "  <thead>\n",
       "    <tr style=\"text-align: right;\">\n",
       "      <th></th>\n",
       "      <th>283</th>\n",
       "      <th>1185</th>\n",
       "      <th>627</th>\n",
       "    </tr>\n",
       "  </thead>\n",
       "  <tbody>\n",
       "    <tr>\n",
       "      <th>name</th>\n",
       "      <td>Maison Boulud</td>\n",
       "      <td>Ma Poule Mouillée</td>\n",
       "      <td>L'Avenue</td>\n",
       "    </tr>\n",
       "    <tr>\n",
       "      <th>attribute</th>\n",
       "      <td>['full_bar', ' upscale', ' valet', ' brunch', ...</td>\n",
       "      <td>[' casual', ' street', ' dinner', 'average', '...</td>\n",
       "      <td>['full_bar', ' trendy', ' street', ' brunch', ...</td>\n",
       "    </tr>\n",
       "    <tr>\n",
       "      <th>categories_clean</th>\n",
       "      <td>['breakfast &amp; brunch', ' french']</td>\n",
       "      <td>['portuguese']</td>\n",
       "      <td>['breakfast &amp; brunch', ' canadian (new)', ' bu...</td>\n",
       "    </tr>\n",
       "  </tbody>\n",
       "</table>\n",
       "</div>"
      ],
      "text/plain": [
       "                                                               283   \\\n",
       "name                                                  Maison Boulud   \n",
       "attribute         ['full_bar', ' upscale', ' valet', ' brunch', ...   \n",
       "categories_clean                  ['breakfast & brunch', ' french']   \n",
       "\n",
       "                                                               1185  \\\n",
       "name                                              Ma Poule Mouillée   \n",
       "attribute         [' casual', ' street', ' dinner', 'average', '...   \n",
       "categories_clean                                     ['portuguese']   \n",
       "\n",
       "                                                               627   \n",
       "name                                                       L'Avenue  \n",
       "attribute         ['full_bar', ' trendy', ' street', ' brunch', ...  \n",
       "categories_clean  ['breakfast & brunch', ' canadian (new)', ' bu...  "
      ]
     },
     "execution_count": 50,
     "metadata": {},
     "output_type": "execute_result"
    }
   ],
   "source": [
    "'''\n",
    "Recommeded\n",
    "'''\n",
    "df_business_QC.loc[restaurant_rec,:][['name','attribute','categories_clean']].T"
   ]
  },
  {
   "cell_type": "markdown",
   "metadata": {},
   "source": [
    "# Visulisation"
   ]
  },
  {
   "cell_type": "code",
   "execution_count": 51,
   "metadata": {},
   "outputs": [
    {
     "name": "stdout",
     "output_type": "stream",
     "text": [
      "[\"L'Avenue\", 'Tommy', 'Pikolo']\n",
      "[283, 1185, 627]\n"
     ]
    }
   ],
   "source": [
    "print(rest_baseline)\n",
    "print(restaurant_rec)"
   ]
  },
  {
   "cell_type": "code",
   "execution_count": 45,
   "metadata": {},
   "outputs": [],
   "source": [
    "base_word_list=(df_business_QC[df_business_QC.name.isin(rest_baseline)]['attribute']+df_business_QC[df_business_QC.name.isin(rest_baseline)]['categories_clean']).sum().replace('[','').replace(']','').replace(' ','').split(\"'\")\n",
    "base_word_list=[x for x in base_word_list if x !=',']\n",
    "base_word_list=' '.join(base_word_list).split()\n",
    "base_word_list=list(np.unique(base_word_list))"
   ]
  },
  {
   "cell_type": "code",
   "execution_count": 52,
   "metadata": {},
   "outputs": [],
   "source": [
    "rec_word_list_0=(df_business_QC[df_business_QC.index.isin(restaurant_rec)]['attribute'].loc[restaurant_rec[0]]+df_business_QC[df_business_QC.index.isin(restaurant_rec)]['categories_clean'].loc[restaurant_rec[0]]).replace('[','').replace(']','').replace(' ','').split(\"'\")\n",
    "rec_word_list_0=[x for x in rec_word_list_0 if x !=',']\n",
    "rec_word_list_0=' '.join(rec_word_list_0).split()\n",
    "rec_word_list_1=(df_business_QC[df_business_QC.index.isin(restaurant_rec)]['attribute'].loc[restaurant_rec[1]]+df_business_QC[df_business_QC.index.isin(restaurant_rec)]['categories_clean'].loc[restaurant_rec[1]]).replace('[','').replace(']','').replace(' ','').split(\"'\")\n",
    "rec_word_list_1=[x for x in rec_word_list_1 if x !=',']\n",
    "rec_word_list_1=' '.join(rec_word_list_1).split()\n",
    "rec_word_list_2=(df_business_QC[df_business_QC.index.isin(restaurant_rec)]['attribute'].loc[restaurant_rec[2]]+df_business_QC[df_business_QC.index.isin(restaurant_rec)]['categories_clean'].loc[restaurant_rec[2]]).replace('[','').replace(']','').replace(' ','').split(\"'\")\n",
    "rec_word_list_2=[x for x in rec_word_list_2 if x !=',']\n",
    "rec_word_list_2=' '.join(rec_word_list_2).split()"
   ]
  },
  {
   "cell_type": "code",
   "execution_count": 53,
   "metadata": {},
   "outputs": [],
   "source": [
    "word_cloud_list=[x for x in rec_word_list_2 if x in base_word_list]+[x for x in rec_word_list_0 if x in base_word_list]+[x for x in rec_word_list_1 if x in base_word_list]"
   ]
  },
  {
   "cell_type": "code",
   "execution_count": 59,
   "metadata": {
    "scrolled": true
   },
   "outputs": [
    {
     "data": {
      "image/png": "[encoded data removed]",
      "text/plain": [
       "<Figure size 720x576 with 1 Axes>"
      ]
     },
     "metadata": {
      "needs_background": "light"
     },
     "output_type": "display_data"
    }
   ],
   "source": [
    "STOPWORDS\n",
    "stopwords = set(STOPWORDS)\n",
    "wordcloud = WordCloud(stopwords=stopwords,max_font_size=80, max_words=100, background_color=\"white\").generate(str(word_cloud_list).replace(\"'\",\" \").replace('&',' '))\n",
    "\n",
    "# Display the generated image:\n",
    "plt.figure(figsize=[10,8])\n",
    "plt.imshow(wordcloud,interpolation=\"bilinear\")\n",
    "plt.axis(\"off\")\n",
    "plt.show()"
   ]
  },
  {
   "cell_type": "markdown",
   "metadata": {},
   "source": [
    "# Deeplearning Rating"
   ]
  },
  {
   "cell_type": "code",
   "execution_count": 116,
   "metadata": {},
   "outputs": [],
   "source": [
    "import keras\n",
    "from IPython.display import SVG\n",
    "from keras.optimizers import Adam\n",
    "from keras.utils.vis_utils import model_to_dot\n",
    "from keras.models import Model\n",
    "\n",
    "import pydot\n",
    "import graphviz\n",
    "\n",
    "from sklearn.model_selection import train_test_split"
   ]
  },
  {
   "cell_type": "code",
   "execution_count": 61,
   "metadata": {},
   "outputs": [],
   "source": [
    "df_data=df_review_user_rest[['user','restaurant','stars','date']]"
   ]
  },
  {
   "cell_type": "code",
   "execution_count": 65,
   "metadata": {},
   "outputs": [],
   "source": [
    "n_users, n_restaurants = len(df_data.user.unique()), df_data.restaurant.max()\n",
    "n_latent_factors = 3"
   ]
  },
  {
   "cell_type": "code",
   "execution_count": 63,
   "metadata": {},
   "outputs": [],
   "source": [
    "train, test = train_test_split(df_data, test_size=0.2,random_state=5)"
   ]
  },
  {
   "cell_type": "code",
   "execution_count": 117,
   "metadata": {},
   "outputs": [
    {
     "name": "stderr",
     "output_type": "stream",
     "text": [
      "C:\\Users\\User\\Anaconda3\\lib\\site-packages\\keras\\legacy\\layers.py:429: UserWarning: The `merge` function is deprecated and will be removed after 08/2017. Use instead layers from `keras.layers.merge`, e.g. `sum`, `concatenate`, etc.\n",
      "  warnings.warn('The `merge` function is deprecated '\n",
      "C:\\Users\\User\\Anaconda3\\lib\\site-packages\\keras\\legacy\\layers.py:66: UserWarning: The `Merge` layer is deprecated and will be removed after 08/2017. Use instead layers from `keras.layers.merge`, e.g. `add`, `concatenate`, etc.\n",
      "  warnings.warn('The `Merge` layer is deprecated '\n"
     ]
    }
   ],
   "source": [
    "restaurant_input = keras.layers.Input(shape=[1],name='Item')\n",
    "restaurant_embedding = keras.layers.Embedding(n_restaurants + 1, n_latent_factors, name='Restaurant-Embedding')(restaurant_input)\n",
    "restaurant_vec = keras.layers.Flatten(name='FlattenRestaurants')(restaurant_embedding)\n",
    "\n",
    "user_input = keras.layers.Input(shape=[1],name='User')\n",
    "user_vec = keras.layers.Flatten(name='FlattenUsers')(keras.layers.Embedding(n_users + 1, n_latent_factors,name='User-Embedding')(user_input))\n",
    "\n",
    "prod = keras.layers.merge([restaurant_vec, user_vec], mode='dot',name='DotProduct')\n",
    "model = Model([user_input, restaurant_input], prod)\n",
    "model.compile('adam', 'mean_squared_error')"
   ]
  },
  {
   "cell_type": "code",
   "execution_count": 127,
   "metadata": {},
   "outputs": [
    {
     "name": "stdout",
     "output_type": "stream",
     "text": [
      "____________________________________________________________________________________________________\n",
      "Layer (type)                     Output Shape          Param #     Connected to                     \n",
      "====================================================================================================\n",
      "Item (InputLayer)                (None, 1)             0                                            \n",
      "____________________________________________________________________________________________________\n",
      "User (InputLayer)                (None, 1)             0                                            \n",
      "____________________________________________________________________________________________________\n",
      "Restaurant-Embedding (Embedding) (None, 1, 3)          4641                                         \n",
      "____________________________________________________________________________________________________\n",
      "User-Embedding (Embedding)       (None, 1, 3)          9009                                         \n",
      "____________________________________________________________________________________________________\n",
      "FlattenRestaurants (Flatten)     (None, 3)             0                                            \n",
      "____________________________________________________________________________________________________\n",
      "FlattenUsers (Flatten)           (None, 3)             0                                            \n",
      "____________________________________________________________________________________________________\n",
      "DotProduct (Merge)               (None, 1)             0                                            \n",
      "====================================================================================================\n",
      "Total params: 13,650.0\n",
      "Trainable params: 13,650.0\n",
      "Non-trainable params: 0.0\n",
      "____________________________________________________________________________________________________\n"
     ]
    }
   ],
   "source": [
    "model.summary()"
   ]
  },
  {
   "cell_type": "code",
   "execution_count": 128,
   "metadata": {},
   "outputs": [],
   "source": [
    "history = model.fit([train.user, train.restaurant], train.stars, epochs=100, verbose=0)"
   ]
  },
  {
   "cell_type": "code",
   "execution_count": 129,
   "metadata": {
    "scrolled": true
   },
   "outputs": [
    {
     "data": {
      "text/plain": [
       "Text(0,0.5,'Train Error')"
      ]
     },
     "execution_count": 129,
     "metadata": {},
     "output_type": "execute_result"
    },
    {
     "data": {
      "image/png": "[encoded data removed]",
      "text/plain": [
       "<Figure size 432x288 with 1 Axes>"
      ]
     },
     "metadata": {
      "needs_background": "light"
     },
     "output_type": "display_data"
    }
   ],
   "source": [
    "pd.Series(history.history['loss']).plot(logy=True)\n",
    "plt.xlabel(\"Epoch\")\n",
    "plt.ylabel(\"Train Error\")"
   ]
  },
  {
   "cell_type": "code",
   "execution_count": 149,
   "metadata": {},
   "outputs": [],
   "source": [
    "y_hat = model.predict([test.user, test.restaurant])\n",
    "y_hat_round = np.round(model.predict([test.user, test.restaurant]),0)\n",
    "y_true = test.stars"
   ]
  },
  {
   "cell_type": "code",
   "execution_count": 140,
   "metadata": {
    "scrolled": true
   },
   "outputs": [
    {
     "data": {
      "text/plain": [
       "array([3.8340874, 4.3038716, 4.060561 , ..., 4.4833784, 5.6487722,\n",
       "       3.8875446], dtype=float32)"
      ]
     },
     "execution_count": 140,
     "metadata": {},
     "output_type": "execute_result"
    }
   ],
   "source": [
    "y_hat.reshape(1,-1)[0]"
   ]
  },
  {
   "cell_type": "code",
   "execution_count": 144,
   "metadata": {
    "scrolled": true
   },
   "outputs": [
    {
     "data": {
      "text/plain": [
       "6418.203212294728"
      ]
     },
     "execution_count": 144,
     "metadata": {},
     "output_type": "execute_result"
    }
   ],
   "source": [
    "abs(y_hat.reshape(1,-1)[0]-y_true).sum()"
   ]
  },
  {
   "cell_type": "code",
   "execution_count": 148,
   "metadata": {},
   "outputs": [
    {
     "data": {
      "text/plain": [
       "0.8579338607532051"
      ]
     },
     "execution_count": 148,
     "metadata": {},
     "output_type": "execute_result"
    }
   ],
   "source": [
    "from sklearn.metrics import mean_absolute_error\n",
    "mean_absolute_error(y_true, y_hat)"
   ]
  },
  {
   "cell_type": "code",
   "execution_count": 150,
   "metadata": {},
   "outputs": [
    {
     "data": {
      "text/plain": [
       "0.8259590963774897"
      ]
     },
     "execution_count": 150,
     "metadata": {},
     "output_type": "execute_result"
    }
   ],
   "source": [
    "mean_absolute_error(y_true, y_hat_round)"
   ]
  },
  {
   "cell_type": "code",
   "execution_count": 145,
   "metadata": {},
   "outputs": [
    {
     "data": {
      "text/plain": [
       "5.0632124"
      ]
     },
     "execution_count": 145,
     "metadata": {},
     "output_type": "execute_result"
    }
   ],
   "source": [
    "model.predict([test[test.user==1].user, test[test.restaurant==283].restaurant]).mean()"
   ]
  },
  {
   "cell_type": "code",
   "execution_count": 146,
   "metadata": {},
   "outputs": [
    {
     "data": {
      "text/plain": [
       "5.319191"
      ]
     },
     "execution_count": 146,
     "metadata": {},
     "output_type": "execute_result"
    }
   ],
   "source": [
    "model.predict([test[test.user==1].user, test[test.restaurant==1185].restaurant]).mean()"
   ]
  },
  {
   "cell_type": "code",
   "execution_count": 147,
   "metadata": {
    "scrolled": false
   },
   "outputs": [
    {
     "data": {
      "text/plain": [
       "5.0753627"
      ]
     },
     "execution_count": 147,
     "metadata": {},
     "output_type": "execute_result"
    }
   ],
   "source": [
    "model.predict([test[test.user==1].user, test[test.restaurant==627].restaurant]).mean()"
   ]
  },
  {
   "cell_type": "code",
   "execution_count": 2,
   "metadata": {},
   "outputs": [],
   "source": [
    "df_matrix3=pd.read_csv('./rec_temp_11_Nov.csv')\n",
    "df_matrix3.rename({'Unnamed: 0':'user'},axis=1,inplace=True)\n",
    "df_matrix3.restaurant_dictionary=df_matrix3.restaurant_dictionary.apply(literal_eval)"
   ]
  },
  {
   "cell_type": "code",
   "execution_count": 4,
   "metadata": {},
   "outputs": [],
   "source": [
    "from sklearn.externals import joblib\n",
    "import pickle"
   ]
  },
  {
   "cell_type": "code",
   "execution_count": 5,
   "metadata": {
    "scrolled": true
   },
   "outputs": [],
   "source": [
    "with open('customer_similarity_computation_data.pkl','wb') as file:\n",
    "    pickle.dump(df_matrix3,file)"
   ]
  },
  {
   "cell_type": "code",
   "execution_count": 6,
   "metadata": {},
   "outputs": [
    {
     "name": "stderr",
     "output_type": "stream",
     "text": [
      "C:\\Users\\User\\Anaconda3\\lib\\site-packages\\scipy\\stats\\stats.py:1713: FutureWarning: Using a non-tuple sequence for multidimensional indexing is deprecated; use `arr[tuple(seq)]` instead of `arr[seq]`. In the future this will be interpreted as an array index, `arr[np.array(seq)]`, which will result either in an error or a different result.\n",
      "  return np.add.reduce(sorted[indexer] * weights, axis=axis) / sumval\n"
     ]
    },
    {
     "data": {
      "text/plain": [
       "<matplotlib.axes._subplots.AxesSubplot at 0x24d0e64ed68>"
      ]
     },
     "execution_count": 6,
     "metadata": {},
     "output_type": "execute_result"
    },
    {
     "data": {
      "image/png": "[encoded data removed]",
      "text/plain": [
       "<Figure size 432x288 with 1 Axes>"
      ]
     },
     "metadata": {
      "needs_background": "light"
     },
     "output_type": "display_data"
    }
   ],
   "source": [
    "df_business_QC=pd.read_csv('./yelp_business_to_use_nov_8_QC.csv')\n",
    "num_col=['name','city','review_count','stars','BikeParking','Caters',\n",
    "         'GoodForKids','HasTV','OutdoorSeating','RestaurantsDelivery',\n",
    "         'RestaurantsGoodForGroups','RestaurantsPriceRange2','RestaurantsReservations','RestaurantsTableService',\n",
    "        'Monday_num_of_chkins','Tuesday_num_of_chkins','Wednesday_num_of_chkins','Thursday_num_of_chkins',\n",
    "         'Friday_num_of_chkins','Saturday_num_of_chkins','Sunday_num_of_chkins','review_year_diff']\n",
    "start_col='review_count'\n",
    "end_col='review_year_diff'\n",
    "df_restaurant_matrix=df_business_QC[num_col]\n",
    "df_restaurant_matrix=df_restaurant_matrix.reset_index()\n",
    "df_restaurant_matrix.rename({'index':'restaurant_index',},axis='columns',inplace=True)\n",
    "df_restaurant_matrix.restaurant_index=df_restaurant_matrix.restaurant_index.map(lambda x:'restaurant'+str(x))\n",
    "df_restaurant_matrix=df_restaurant_matrix.reset_index()\n",
    "df_restaurant_matrix.rename({'index':'restaurant',},axis='columns',inplace=True)\n",
    "vec=CountVectorizer(stop_words='english')\n",
    "df_attr_cat_one_hot=pd.DataFrame(vec.fit_transform(df_business_QC.categories_clean+df_business_QC.attribute).toarray(),columns=vec.get_feature_names())\n",
    "df_restaurant_matrix=df_restaurant_matrix.fillna(0)\n",
    "df_restaurant_matrix=pd.concat([df_restaurant_matrix,df_attr_cat_one_hot],axis=1)\n",
    "sns.distplot(cosine_similarity(df_restaurant_matrix.loc[:,'review_count':],df_restaurant_matrix.loc[:,'review_count':])[0])"
   ]
  },
  {
   "cell_type": "code",
   "execution_count": 7,
   "metadata": {},
   "outputs": [],
   "source": [
    "with open('restaurant_similarity_computation_matrix_data.pkl','wb') as file:\n",
    "    pickle.dump(df_restaurant_matrix,file)"
   ]
  },
  {
   "cell_type": "code",
   "execution_count": 8,
   "metadata": {},
   "outputs": [],
   "source": [
    "with open('restaurant_to_display_QC_data.pkl','wb') as file:\n",
    "    pickle.dump(df_business_QC,file)"
   ]
  }
 ],
 "metadata": {
  "kernelspec": {
   "display_name": "Python 3",
   "language": "python",
   "name": "python3"
  },
  "language_info": {
   "codemirror_mode": {
    "name": "ipython",
    "version": 3
   },
   "file_extension": ".py",
   "mimetype": "text/x-python",
   "name": "python",
   "nbconvert_exporter": "python",
   "pygments_lexer": "ipython3",
   "version": "3.6.6"
  }
 },
 "nbformat": 4,
 "nbformat_minor": 2
}
